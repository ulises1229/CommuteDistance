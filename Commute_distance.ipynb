{
  "nbformat": 4,
  "nbformat_minor": 0,
  "metadata": {
    "colab": {
      "name": "Commute_distance.ipynb",
      "provenance": [],
      "collapsed_sections": [],
      "mount_file_id": "1lSuLzBHsgl4pxdhGgOKlJEeBe6cFpzhL",
      "authorship_tag": "ABX9TyN7MgfMm0keZdirknEh+43R",
      "include_colab_link": true
    },
    "kernelspec": {
      "name": "python3",
      "display_name": "Python 3"
    }
  },
  "cells": [
    {
      "cell_type": "markdown",
      "metadata": {
        "id": "view-in-github",
        "colab_type": "text"
      },
      "source": [
        "<a href=\"https://colab.research.google.com/github/ulises1229/CommuteDistance/blob/master/Commute_distance.ipynb\" target=\"_parent\"><img src=\"https://colab.research.google.com/assets/colab-badge.svg\" alt=\"Open In Colab\"/></a>"
      ]
    },
    {
      "cell_type": "markdown",
      "metadata": {
        "id": "0fFiyWj9E5Ti",
        "colab_type": "text"
      },
      "source": [
        "# Commute Distance\n",
        "+ Autores: Diana Rivera, Ulises Olivares\n",
        "+ Estancia Investigación\n",
        "+ ENES Juriquilla"
      ]
    },
    {
      "cell_type": "markdown",
      "metadata": {
        "id": "R-M6MxydGzFx",
        "colab_type": "text"
      },
      "source": [
        "Pendientes: \n",
        "+ Revisar que librería es la mejor para el uso de grafos en Python (Una opción podría ser: networkx https://networkx.github.io/)\n",
        "+ Explorar el uso de gdal https://pypi.org/project/GDAL/ para importar geotiffs. \n",
        "\n"
      ]
    },
    {
      "cell_type": "code",
      "metadata": {
        "id": "0oRhUP1tHVKI",
        "colab_type": "code",
        "colab": {
          "base_uri": "https://localhost:8080/",
          "height": 89
        },
        "outputId": "6c028106-d799-44f4-b5dc-83e44fbf9776"
      },
      "source": [
        "# Instalar librerías en colab\n",
        "\n",
        "# Instalar gdal\n",
        "!pip install GDAL\n",
        "\n",
        "# Instalar \n",
        "!pip install networkx"
      ],
      "execution_count": 3,
      "outputs": [
        {
          "output_type": "stream",
          "text": [
            "Requirement already satisfied: GDAL in /usr/lib/python3/dist-packages (2.2.2)\n",
            "Requirement already satisfied: networkx in /usr/local/lib/python3.6/dist-packages (2.5)\n",
            "Requirement already satisfied: decorator>=4.3.0 in /usr/local/lib/python3.6/dist-packages (from networkx) (4.4.2)\n"
          ],
          "name": "stdout"
        }
      ]
    },
    {
      "cell_type": "markdown",
      "metadata": {
        "id": "jzW-4gDEJI4c",
        "colab_type": "text"
      },
      "source": [
        "Importar librerías"
      ]
    },
    {
      "cell_type": "code",
      "metadata": {
        "id": "HSvztN3HJNGo",
        "colab_type": "code",
        "colab": {}
      },
      "source": [
        "import gdal\n",
        "import networkx\n",
        "\n",
        "# Continuar importando los geotiff"
      ],
      "execution_count": 6,
      "outputs": []
    }
  ]
}